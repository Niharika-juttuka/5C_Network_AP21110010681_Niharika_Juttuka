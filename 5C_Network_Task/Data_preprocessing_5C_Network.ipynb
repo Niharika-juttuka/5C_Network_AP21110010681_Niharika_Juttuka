{
  "nbformat": 4,
  "nbformat_minor": 0,
  "metadata": {
    "colab": {
      "provenance": []
    },
    "kernelspec": {
      "name": "python3",
      "display_name": "Python 3"
    },
    "language_info": {
      "name": "python"
    }
  },
  "cells": [
    {
      "cell_type": "markdown",
      "source": [
        "# Data Preprocessing"
      ],
      "metadata": {
        "id": "kgi-s396Pdjb"
      }
    },
    {
      "cell_type": "code",
      "source": [
        "import cv2\n",
        "import numpy as np\n",
        "import os\n",
        "from tensorflow.keras.preprocessing.image import ImageDataGenerator\n",
        "\n",
        "def apply_clahe(img):\n",
        "    # Convert to grayscale if needed\n",
        "    if len(img.shape) == 3:\n",
        "        img = cv2.cvtColor(img, cv2.COLOR_BGR2GRAY)\n",
        "    clahe = cv2.createCLAHE(clipLimit=2.0, tileGridSize=(8, 8))\n",
        "    return clahe.apply(img)\n",
        "\n",
        "def preprocess_image(img_path):\n",
        "    img = cv2.imread(img_path, cv2.IMREAD_UNCHANGED)\n",
        "    img = apply_clahe(img)\n",
        "    img = img / 255.0  # Normalize to range [0, 1]\n",
        "    return img\n",
        "\n",
        "# Dataset paths\n",
        "train_images_path = 'path_to_train_images'\n",
        "train_masks_path = 'path_to_train_masks'\n",
        "\n",
        "# Image augmentation\n",
        "data_gen_args = dict(rotation_range=15,\n",
        "                     width_shift_range=0.1,\n",
        "                     height_shift_range=0.1,\n",
        "                     zoom_range=0.2,\n",
        "                     horizontal_flip=True,\n",
        "                     fill_mode='nearest')\n",
        "\n",
        "image_datagen = ImageDataGenerator(**data_gen_args)\n",
        "mask_datagen = ImageDataGenerator(**data_gen_args)"
      ],
      "metadata": {
        "id": "gOWxFoAlPiBu"
      },
      "execution_count": null,
      "outputs": []
    }
  ]
}