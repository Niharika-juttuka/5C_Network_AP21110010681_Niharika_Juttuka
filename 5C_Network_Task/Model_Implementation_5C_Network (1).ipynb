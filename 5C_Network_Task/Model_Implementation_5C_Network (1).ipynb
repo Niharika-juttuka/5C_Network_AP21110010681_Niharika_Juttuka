{
  "nbformat": 4,
  "nbformat_minor": 0,
  "metadata": {
    "colab": {
      "provenance": []
    },
    "kernelspec": {
      "name": "python3",
      "display_name": "Python 3"
    },
    "language_info": {
      "name": "python"
    }
  },
  "cells": [
    {
      "cell_type": "markdown",
      "source": [
        "# Model Implementation: Nested U-Net and Attention U-Net\n",
        "* Nested U-Net (U-Net++)"
      ],
      "metadata": {
        "id": "2qfBAb0tQDr_"
      }
    },
    {
      "cell_type": "code",
      "source": [
        "from tensorflow.keras import layers, models\n",
        "\n",
        "def unet_plus_plus(input_size=(256, 256, 1)):\n",
        "    inputs = layers.Input(input_size)\n",
        "    # Encoder\n",
        "    conv1 = layers.Conv2D(64, 3, activation='relu', padding='same')(inputs)\n",
        "    conv1 = layers.Conv2D(64, 3, activation='relu', padding='same')(conv1)\n",
        "    pool1 = layers.MaxPooling2D(pool_size=(2, 2))(conv1)\n",
        "\n",
        "    # Decoder with skip connections\n",
        "    conv2 = layers.Conv2D(64, 3, activation='relu', padding='same')(pool1)\n",
        "    up1 = layers.UpSampling2D(size=(2, 2))(conv2)\n",
        "    up1 = layers.Concatenate()([up1, conv1])\n",
        "\n",
        "    outputs = layers.Conv2D(1, 1, activation='sigmoid')(up1)\n",
        "    model = models.Model(inputs, outputs)\n",
        "    model.compile(optimizer='adam', loss='binary_crossentropy', metrics=['accuracy'])\n",
        "    return model"
      ],
      "metadata": {
        "id": "YvpXl2Y6QKDW"
      },
      "execution_count": null,
      "outputs": []
    },
    {
      "cell_type": "markdown",
      "source": [
        "* Attention U-Net"
      ],
      "metadata": {
        "id": "3puwsX3jQfS5"
      }
    },
    {
      "cell_type": "code",
      "source": [
        "from tensorflow.keras.layers import Attention\n",
        "\n",
        "def attention_unet(input_size=(256, 256, 1)):\n",
        "    inputs = layers.Input(input_size)\n",
        "    # Encoder\n",
        "    conv1 = layers.Conv2D(64, 3, activation='relu', padding='same')(inputs)\n",
        "    conv1 = layers.Conv2D(64, 3, activation='relu', padding='same')(conv1)\n",
        "    pool1 = layers.MaxPooling2D(pool_size=(2, 2))(conv1)\n",
        "\n",
        "    # Adding attention layer\n",
        "    attention = Attention()([conv1, pool1])\n",
        "\n",
        "    # Decoder with skip connections\n",
        "    up1 = layers.UpSampling2D(size=(2, 2))(attention)\n",
        "    up1 = layers.Concatenate()([up1, conv1])\n",
        "\n",
        "    outputs = layers.Conv2D(1, 1, activation='sigmoid')(up1)\n",
        "    model = models.Model(inputs, outputs)\n",
        "    model.compile(optimizer='adam', loss='binary_crossentropy', metrics=['accuracy'])\n",
        "    return model"
      ],
      "metadata": {
        "id": "3t21_yCoQdI-"
      },
      "execution_count": null,
      "outputs": []
    }
  ]
}