{
  "nbformat": 4,
  "nbformat_minor": 0,
  "metadata": {
    "colab": {
      "provenance": []
    },
    "kernelspec": {
      "name": "python3",
      "display_name": "Python 3"
    },
    "language_info": {
      "name": "python"
    }
  },
  "cells": [
    {
      "cell_type": "code",
      "execution_count": null,
      "metadata": {
        "id": "t-ICEJ0HVJpX"
      },
      "outputs": [],
      "source": [
        "import streamlit as st\n",
        "import requests\n",
        "import numpy as np\n",
        "from PIL import Image\n",
        "\n",
        "st.title(\"Brain MRI Metastasis Segmentation\")\n",
        "\n",
        "uploaded_file = st.file_uploader(\"Upload a Brain MRI Image\", type=\"png\")\n",
        "\n",
        "if uploaded_file is not None:\n",
        "    image = Image.open(uploaded_file)\n",
        "    st.image(image, caption='Uploaded Image', use_column_width=True)\n",
        "\n",
        "    # Send the image to the FastAPI backend\n",
        "    files = {'file': uploaded_file.getvalue()}\n",
        "    response = requests.post(\"http://localhost:8000/predict/\", files=files)\n",
        "\n",
        "    # Display segmentation results\n",
        "    if response.status_code == 200:\n",
        "        prediction = np.array(response.json()['prediction'])\n",
        "        st.image(prediction.squeeze(), caption='Segmented Metastasis', use_column_width=True)"
      ]
    }
  ]
}