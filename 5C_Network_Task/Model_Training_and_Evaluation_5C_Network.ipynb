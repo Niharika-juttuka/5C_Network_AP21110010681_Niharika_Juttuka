{
  "nbformat": 4,
  "nbformat_minor": 0,
  "metadata": {
    "colab": {
      "provenance": []
    },
    "kernelspec": {
      "name": "python3",
      "display_name": "Python 3"
    },
    "language_info": {
      "name": "python"
    }
  },
  "cells": [
    {
      "cell_type": "markdown",
      "source": [
        "# Model Training and Evaluation"
      ],
      "metadata": {
        "id": "w6ZsIUndRGfF"
      }
    },
    {
      "cell_type": "code",
      "execution_count": null,
      "metadata": {
        "id": "k2px5zSoRANL"
      },
      "outputs": [],
      "source": [
        "# Assuming `train_images` and `train_masks` are loaded and preprocessed numpy arrays\n",
        "train_images = np.array([preprocess_image(img) for img in os.listdir(train_images_path)])\n",
        "train_masks = np.array([preprocess_image(mask) for mask in os.listdir(train_masks_path)])\n",
        "\n",
        "# Expand dimensions for model input (e.g., (256, 256, 1))\n",
        "train_images = np.expand_dims(train_images, axis=-1)\n",
        "train_masks = np.expand_dims(train_masks, axis=-1)\n",
        "\n",
        "# Split data\n",
        "from sklearn.model_selection import train_test_split\n",
        "X_train, X_val, y_train, y_val = train_test_split(train_images, train_masks, test_size=0.2, random_state=42)\n",
        "\n",
        "# Training both models\n",
        "nested_unet = unet_plus_plus(input_size=(256, 256, 1))\n",
        "attention_unet = attention_unet(input_size=(256, 256, 1))\n",
        "\n",
        "nested_unet.fit(X_train, y_train, validation_data=(X_val, y_val), epochs=10, batch_size=16)\n",
        "attention_unet.fit(X_train, y_train, validation_data=(X_val, y_val), epochs=10, batch_size=16)\n"
      ]
    }
  ]
}