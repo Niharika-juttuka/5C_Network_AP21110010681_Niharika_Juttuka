{
  "nbformat": 4,
  "nbformat_minor": 0,
  "metadata": {
    "colab": {
      "provenance": []
    },
    "kernelspec": {
      "name": "python3",
      "display_name": "Python 3"
    },
    "language_info": {
      "name": "python"
    }
  },
  "cells": [
    {
      "cell_type": "markdown",
      "source": [
        "# Web Application Development: FastAPI Backend and Streamlit UI\n",
        "* FastAPI Backend"
      ],
      "metadata": {
        "id": "FcswwmJURiJJ"
      }
    },
    {
      "cell_type": "code",
      "execution_count": null,
      "metadata": {
        "id": "wM8qYX-PRg4N"
      },
      "outputs": [],
      "source": [
        "from fastapi import FastAPI, File, UploadFile\n",
        "import uvicorn\n",
        "import cv2\n",
        "\n",
        "app = FastAPI()\n",
        "\n",
        "# Load best model (assuming nested_unet was saved)\n",
        "nested_unet.load_weights('nested_unet_weights.h5')\n",
        "\n",
        "@app.post(\"/predict/\")\n",
        "async def predict(file: UploadFile = File(...)):\n",
        "    contents = await file.read()\n",
        "    img = cv2.imdecode(np.frombuffer(contents, np.uint8), cv2.IMREAD_UNCHANGED)\n",
        "    img = preprocess_image(img)\n",
        "    img = np.expand_dims(img, axis=[0, -1])  # Shape: (1, 256, 256, 1)\n",
        "\n",
        "    # Predict and return segmentation result\n",
        "    prediction = nested_unet.predict(img)\n",
        "    return {\"prediction\": prediction.tolist()}\n",
        "\n",
        "if __name__ == \"__main__\":\n",
        "    uvicorn.run(app, host=\"0.0.0.0\", port=8000)"
      ]
    },
    {
      "cell_type": "markdown",
      "source": [
        "* Streamlit UI"
      ],
      "metadata": {
        "id": "vufGm5ZDRsMY"
      }
    },
    {
      "cell_type": "code",
      "source": [
        "import streamlit as st\n",
        "import requests\n",
        "import numpy as np\n",
        "from PIL import Image\n",
        "\n",
        "st.title(\"Brain MRI Metastasis Segmentation\")\n",
        "\n",
        "uploaded_file = st.file_uploader(\"Upload a Brain MRI Image\", type=\"png\")\n",
        "\n",
        "if uploaded_file is not None:\n",
        "    image = Image.open(uploaded_file)\n",
        "    st.image(image, caption='Uploaded Image', use_column_width=True)\n",
        "\n",
        "    # Send the image to the FastAPI backend\n",
        "    files = {'file': uploaded_file.getvalue()}\n",
        "    response = requests.post(\"http://localhost:8000/predict/\", files=files)\n",
        "\n",
        "    # Display segmentation results\n",
        "    if response.status_code == 200:\n",
        "        prediction = np.array(response.json()['prediction'])\n",
        "        st.image(prediction.squeeze(), caption='Segmented Metastasis', use_column_width=True)"
      ],
      "metadata": {
        "id": "MMBovwWyRrsp"
      },
      "execution_count": null,
      "outputs": []
    }
  ]
}